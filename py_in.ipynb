{
 "cells": [
  {
   "cell_type": "code",
   "execution_count": 4,
   "id": "83e619a4",
   "metadata": {},
   "outputs": [],
   "source": [
    "# Inheritance\n",
    "\n",
    "\n",
    "\n",
    "\n",
    "class xyz:\n",
    "    def __init__(self ,a,b,c):\n",
    "        self.a = a\n",
    "        self.b = b\n",
    "        self.c=c\n",
    "        \n",
    "    def test(self):\n",
    "        print(\"first test meth in class xyz\")\n",
    "        \n",
    "    def test1(self):\n",
    "        print(\"test1 meth in class xyz\")\n",
    "        \n",
    "    def test2(self):\n",
    "        print(\"test2 meth in class xyz\")\n",
    "        "
   ]
  },
  {
   "cell_type": "code",
   "execution_count": null,
   "id": "e6716225",
   "metadata": {},
   "outputs": [],
   "source": []
  },
  {
   "cell_type": "code",
   "execution_count": 5,
   "id": "e592a681",
   "metadata": {},
   "outputs": [],
   "source": [
    "p = xyz(1,2,3)"
   ]
  },
  {
   "cell_type": "code",
   "execution_count": 6,
   "id": "23f18312",
   "metadata": {},
   "outputs": [
    {
     "name": "stdout",
     "output_type": "stream",
     "text": [
      "test1 meth in class xyz\n"
     ]
    }
   ],
   "source": [
    "p.test1()"
   ]
  },
  {
   "cell_type": "code",
   "execution_count": null,
   "id": "009f58f2",
   "metadata": {},
   "outputs": [],
   "source": []
  },
  {
   "cell_type": "code",
   "execution_count": null,
   "id": "dd8b1e7f",
   "metadata": {},
   "outputs": [],
   "source": []
  },
  {
   "cell_type": "code",
   "execution_count": 8,
   "id": "de195a73",
   "metadata": {},
   "outputs": [],
   "source": [
    "class xyz1(xyz):\n",
    "    pass"
   ]
  },
  {
   "cell_type": "code",
   "execution_count": 10,
   "id": "7b865a64",
   "metadata": {},
   "outputs": [],
   "source": [
    "q=xyz1(3,4,5)"
   ]
  },
  {
   "cell_type": "code",
   "execution_count": 11,
   "id": "a6b81fa7",
   "metadata": {},
   "outputs": [
    {
     "name": "stdout",
     "output_type": "stream",
     "text": [
      "test1 meth in class xyz\n"
     ]
    }
   ],
   "source": [
    "q.test1()"
   ]
  },
  {
   "cell_type": "code",
   "execution_count": 12,
   "id": "c715caf2",
   "metadata": {},
   "outputs": [
    {
     "name": "stdout",
     "output_type": "stream",
     "text": [
      "test2 meth in class xyz\n"
     ]
    }
   ],
   "source": [
    "q.test2()"
   ]
  },
  {
   "cell_type": "code",
   "execution_count": null,
   "id": "f6d2a487",
   "metadata": {},
   "outputs": [],
   "source": []
  },
  {
   "cell_type": "code",
   "execution_count": 13,
   "id": "8c8938d0",
   "metadata": {},
   "outputs": [],
   "source": [
    "class xyz1(xyz):\n",
    "    def test(self):\n",
    "        print(\"this is the test meth available  in xyz1\")\n",
    "        "
   ]
  },
  {
   "cell_type": "code",
   "execution_count": 14,
   "id": "c4165fb3",
   "metadata": {},
   "outputs": [],
   "source": [
    "g = xyz1(4,5,6)"
   ]
  },
  {
   "cell_type": "code",
   "execution_count": 16,
   "id": "f7f2041a",
   "metadata": {},
   "outputs": [
    {
     "name": "stdout",
     "output_type": "stream",
     "text": [
      "this is the test meth available  in xyz1\n"
     ]
    }
   ],
   "source": [
    "g.test()"
   ]
  },
  {
   "cell_type": "code",
   "execution_count": null,
   "id": "5dcc7ebd",
   "metadata": {},
   "outputs": [],
   "source": []
  },
  {
   "cell_type": "code",
   "execution_count": null,
   "id": "359efca0",
   "metadata": {},
   "outputs": [],
   "source": []
  },
  {
   "cell_type": "code",
   "execution_count": null,
   "id": "4d57dffb",
   "metadata": {},
   "outputs": [],
   "source": [
    "#  Multiple Inheritance"
   ]
  },
  {
   "cell_type": "code",
   "execution_count": 38,
   "id": "1e0f6fa0",
   "metadata": {},
   "outputs": [],
   "source": [
    "class xyz():\n",
    "    def __init__(self,a,b,c):\n",
    "        self.a =a\n",
    "        self.b=b\n",
    "        self.c =c\n",
    "        \n",
    "    def test(self):\n",
    "        print(\"this is a meth of xyz class\")\n",
    "        \n",
    "class xyz1:\n",
    "    \n",
    "    def __init__(self,p,q,v):\n",
    "        self.p=p\n",
    "        self.q=q\n",
    "        self.v=v\n",
    "        \n",
    "    def test1(self):\n",
    "        print(\"this is a meth from class xyz1\")\n",
    "        \n",
    "\n",
    "        \n",
    "class child(xyz,xyz1):\n",
    "    def __init__(self,*args,**kwargs):\n",
    "        xyz.__init__(self, *args)\n",
    "        xyz1.__init__(self, **kwargs)\n",
    "    "
   ]
  },
  {
   "cell_type": "code",
   "execution_count": 39,
   "id": "2feb8462",
   "metadata": {},
   "outputs": [],
   "source": [
    " n  =  child(1,2,3,p = 4 ,q= 5 ,v = 6)"
   ]
  },
  {
   "cell_type": "code",
   "execution_count": 41,
   "id": "81f8fad9",
   "metadata": {},
   "outputs": [
    {
     "data": {
      "text/plain": [
       "4"
      ]
     },
     "execution_count": 41,
     "metadata": {},
     "output_type": "execute_result"
    }
   ],
   "source": [
    "n.p"
   ]
  },
  {
   "cell_type": "code",
   "execution_count": 42,
   "id": "4d99643d",
   "metadata": {},
   "outputs": [
    {
     "data": {
      "text/plain": [
       "5"
      ]
     },
     "execution_count": 42,
     "metadata": {},
     "output_type": "execute_result"
    }
   ],
   "source": [
    "n.q"
   ]
  },
  {
   "cell_type": "code",
   "execution_count": 43,
   "id": "b0ad6bfc",
   "metadata": {},
   "outputs": [
    {
     "data": {
      "text/plain": [
       "6"
      ]
     },
     "execution_count": 43,
     "metadata": {},
     "output_type": "execute_result"
    }
   ],
   "source": [
    "n.v"
   ]
  },
  {
   "cell_type": "code",
   "execution_count": null,
   "id": "6095432c",
   "metadata": {},
   "outputs": [],
   "source": []
  },
  {
   "cell_type": "code",
   "execution_count": null,
   "id": "0dbfce93",
   "metadata": {},
   "outputs": [],
   "source": [
    "# Multi-level Inheritance"
   ]
  },
  {
   "cell_type": "code",
   "execution_count": 65,
   "id": "340d97dd",
   "metadata": {},
   "outputs": [],
   "source": [
    "class xyz():\n",
    "    def __init__(self,a,b,c):\n",
    "        self.a =a\n",
    "        self.b=b\n",
    "        self.c =c\n",
    "        \n",
    "    def test(self):\n",
    "        print(\"this is a meth of xyz class\")\n",
    "        \n",
    "class xyz1(xyz):\n",
    "    \n",
    "\n",
    "        \n",
    "    def test1(self):\n",
    "        print(\"this is a meth from class xyz1\")\n",
    "        \n",
    "        \n",
    "class xyz2(xyz1):\n",
    "    \n",
    "    def test2(self):\n",
    "        \n",
    "        print(\"this is meth from class 2\")\n",
    "        \n",
    "        \n",
    "class xyz3(xyz2):\n",
    "    def test3(self):\n",
    "        print(\"this is meth from class xyz3\")"
   ]
  },
  {
   "cell_type": "code",
   "execution_count": 66,
   "id": "fbf02477",
   "metadata": {},
   "outputs": [],
   "source": [
    "v = xyz2(5,6,7)"
   ]
  },
  {
   "cell_type": "code",
   "execution_count": 67,
   "id": "35c19545",
   "metadata": {},
   "outputs": [],
   "source": [
    "m = xyz3(4,5,6)"
   ]
  },
  {
   "cell_type": "markdown",
   "id": "8fe37686",
   "metadata": {},
   "source": [
    " "
   ]
  },
  {
   "cell_type": "code",
   "execution_count": 68,
   "id": "eb9af7e1",
   "metadata": {},
   "outputs": [
    {
     "name": "stdout",
     "output_type": "stream",
     "text": [
      "this is meth from class xyz3\n"
     ]
    }
   ],
   "source": [
    "m.test3()"
   ]
  },
  {
   "cell_type": "code",
   "execution_count": null,
   "id": "49bc9019",
   "metadata": {},
   "outputs": [],
   "source": []
  },
  {
   "cell_type": "code",
   "execution_count": null,
   "id": "da2ae4dc",
   "metadata": {},
   "outputs": [],
   "source": [
    "# public , private , protected"
   ]
  },
  {
   "cell_type": "code",
   "execution_count": null,
   "id": "eac77a57",
   "metadata": {},
   "outputs": [],
   "source": []
  },
  {
   "cell_type": "code",
   "execution_count": 71,
   "id": "2fb0a653",
   "metadata": {},
   "outputs": [],
   "source": [
    "class test:\n",
    "    def __init__(self,a,b,c):\n",
    "        self.a =a\n",
    "        self.b=b\n",
    "        self.c=c\n",
    "        \n",
    "class test1(test) :\n",
    "    pass\n",
    "u = test(4,5,6)"
   ]
  },
  {
   "cell_type": "code",
   "execution_count": 73,
   "id": "baa45a22",
   "metadata": {},
   "outputs": [],
   "source": [
    " v = test1(3,4,5)  # able to override the parent class variables."
   ]
  },
  {
   "cell_type": "code",
   "execution_count": null,
   "id": "2ec51b60",
   "metadata": {},
   "outputs": [],
   "source": []
  },
  {
   "cell_type": "code",
   "execution_count": null,
   "id": "cfe7439c",
   "metadata": {},
   "outputs": [],
   "source": []
  },
  {
   "cell_type": "code",
   "execution_count": 98,
   "id": "1807e18a",
   "metadata": {},
   "outputs": [],
   "source": [
    "class test:\n",
    "    def __init__(self):\n",
    "        self.__a =4  # _a (protected) \n",
    "        \n",
    "        \n",
    "class test1(test) :\n",
    "    def __init__(self):\n",
    "    \n",
    "        self.__a = 7\n",
    "        \n",
    "        \n",
    "    \n",
    "u = test()"
   ]
  },
  {
   "cell_type": "code",
   "execution_count": 99,
   "id": "60b8536d",
   "metadata": {},
   "outputs": [
    {
     "ename": "AttributeError",
     "evalue": "'test' object has no attribute '__a'",
     "output_type": "error",
     "traceback": [
      "\u001b[1;31m---------------------------------------------------------------------------\u001b[0m",
      "\u001b[1;31mAttributeError\u001b[0m                            Traceback (most recent call last)",
      "Cell \u001b[1;32mIn[99], line 1\u001b[0m\n\u001b[1;32m----> 1\u001b[0m u\u001b[38;5;241m.\u001b[39m__a\n",
      "\u001b[1;31mAttributeError\u001b[0m: 'test' object has no attribute '__a'"
     ]
    }
   ],
   "source": [
    "u.__a"
   ]
  },
  {
   "cell_type": "code",
   "execution_count": 100,
   "id": "112e51d3",
   "metadata": {},
   "outputs": [],
   "source": [
    "v = test1()"
   ]
  },
  {
   "cell_type": "code",
   "execution_count": 101,
   "id": "131f43d5",
   "metadata": {},
   "outputs": [
    {
     "ename": "AttributeError",
     "evalue": "'test1' object has no attribute '__a'",
     "output_type": "error",
     "traceback": [
      "\u001b[1;31m---------------------------------------------------------------------------\u001b[0m",
      "\u001b[1;31mAttributeError\u001b[0m                            Traceback (most recent call last)",
      "Cell \u001b[1;32mIn[101], line 1\u001b[0m\n\u001b[1;32m----> 1\u001b[0m v\u001b[38;5;241m.\u001b[39m__a\n",
      "\u001b[1;31mAttributeError\u001b[0m: 'test1' object has no attribute '__a'"
     ]
    }
   ],
   "source": [
    "v.__a"
   ]
  },
  {
   "cell_type": "code",
   "execution_count": null,
   "id": "4500248b",
   "metadata": {},
   "outputs": [],
   "source": []
  },
  {
   "cell_type": "code",
   "execution_count": 110,
   "id": "3d0e4213",
   "metadata": {},
   "outputs": [],
   "source": [
    "class test:\n",
    "    def __init__(self,a,b,c):\n",
    "        self._a=a\n",
    "        self.__b=b\n",
    "        self.c=c\n",
    "        \n",
    "v= test(4,5,6)\n",
    "        "
   ]
  },
  {
   "cell_type": "code",
   "execution_count": 111,
   "id": "e06e1b9f",
   "metadata": {},
   "outputs": [
    {
     "data": {
      "text/plain": [
       "4"
      ]
     },
     "execution_count": 111,
     "metadata": {},
     "output_type": "execute_result"
    }
   ],
   "source": [
    "v._a"
   ]
  },
  {
   "cell_type": "code",
   "execution_count": 112,
   "id": "9771c172",
   "metadata": {},
   "outputs": [
    {
     "ename": "AttributeError",
     "evalue": "'test' object has no attribute '__b'",
     "output_type": "error",
     "traceback": [
      "\u001b[1;31m---------------------------------------------------------------------------\u001b[0m",
      "\u001b[1;31mAttributeError\u001b[0m                            Traceback (most recent call last)",
      "Cell \u001b[1;32mIn[112], line 1\u001b[0m\n\u001b[1;32m----> 1\u001b[0m v\u001b[38;5;241m.\u001b[39m__b\n",
      "\u001b[1;31mAttributeError\u001b[0m: 'test' object has no attribute '__b'"
     ]
    }
   ],
   "source": [
    "v.__b"
   ]
  },
  {
   "cell_type": "code",
   "execution_count": 113,
   "id": "9e1a0520",
   "metadata": {},
   "outputs": [
    {
     "data": {
      "text/plain": [
       "5"
      ]
     },
     "execution_count": 113,
     "metadata": {},
     "output_type": "execute_result"
    }
   ],
   "source": [
    "v._test__b"
   ]
  },
  {
   "cell_type": "code",
   "execution_count": null,
   "id": "94b34fc2",
   "metadata": {},
   "outputs": [],
   "source": []
  },
  {
   "cell_type": "code",
   "execution_count": null,
   "id": "49e3058c",
   "metadata": {},
   "outputs": [],
   "source": []
  },
  {
   "cell_type": "code",
   "execution_count": 131,
   "id": "a4397eae",
   "metadata": {},
   "outputs": [],
   "source": [
    "class test:\n",
    "    def __init__(self,a,b,c):\n",
    "        self._a=a\n",
    "        self.__b=b\n",
    "        self.c=c\n",
    "        \n",
    "class test1(test):\n",
    "   # def __init__(self):\n",
    "        pass\n",
    "      \n",
    "        \n",
    "v= test(4,5,6)"
   ]
  },
  {
   "cell_type": "code",
   "execution_count": 132,
   "id": "eee36576",
   "metadata": {},
   "outputs": [
    {
     "data": {
      "text/plain": [
       "4"
      ]
     },
     "execution_count": 132,
     "metadata": {},
     "output_type": "execute_result"
    }
   ],
   "source": [
    "v._a"
   ]
  },
  {
   "cell_type": "code",
   "execution_count": 133,
   "id": "f7a976f5",
   "metadata": {},
   "outputs": [
    {
     "data": {
      "text/plain": [
       "5"
      ]
     },
     "execution_count": 133,
     "metadata": {},
     "output_type": "execute_result"
    }
   ],
   "source": [
    "v._test__b"
   ]
  },
  {
   "cell_type": "code",
   "execution_count": 134,
   "id": "9dbe2964",
   "metadata": {},
   "outputs": [
    {
     "data": {
      "text/plain": [
       "6"
      ]
     },
     "execution_count": 134,
     "metadata": {},
     "output_type": "execute_result"
    }
   ],
   "source": [
    "v.c"
   ]
  },
  {
   "cell_type": "code",
   "execution_count": 135,
   "id": "2ebcce04",
   "metadata": {},
   "outputs": [],
   "source": [
    "u = test1(3,4,7)"
   ]
  },
  {
   "cell_type": "code",
   "execution_count": 136,
   "id": "773c67ca",
   "metadata": {},
   "outputs": [
    {
     "data": {
      "text/plain": [
       "7"
      ]
     },
     "execution_count": 136,
     "metadata": {},
     "output_type": "execute_result"
    }
   ],
   "source": [
    "u.c"
   ]
  },
  {
   "cell_type": "code",
   "execution_count": 137,
   "id": "97ae2ae5",
   "metadata": {},
   "outputs": [
    {
     "data": {
      "text/plain": [
       "3"
      ]
     },
     "execution_count": 137,
     "metadata": {},
     "output_type": "execute_result"
    }
   ],
   "source": [
    "u._a"
   ]
  },
  {
   "cell_type": "code",
   "execution_count": 138,
   "id": "05b63ce5",
   "metadata": {},
   "outputs": [
    {
     "ename": "AttributeError",
     "evalue": "'test1' object has no attribute '_test1__b'",
     "output_type": "error",
     "traceback": [
      "\u001b[1;31m---------------------------------------------------------------------------\u001b[0m",
      "\u001b[1;31mAttributeError\u001b[0m                            Traceback (most recent call last)",
      "Cell \u001b[1;32mIn[138], line 1\u001b[0m\n\u001b[1;32m----> 1\u001b[0m u\u001b[38;5;241m.\u001b[39m_test1__b\n",
      "\u001b[1;31mAttributeError\u001b[0m: 'test1' object has no attribute '_test1__b'"
     ]
    }
   ],
   "source": [
    "u._test1__b"
   ]
  },
  {
   "cell_type": "code",
   "execution_count": 139,
   "id": "53c30aeb",
   "metadata": {},
   "outputs": [
    {
     "data": {
      "text/plain": [
       "4"
      ]
     },
     "execution_count": 139,
     "metadata": {},
     "output_type": "execute_result"
    }
   ],
   "source": [
    "u._test__b"
   ]
  },
  {
   "cell_type": "code",
   "execution_count": null,
   "id": "c737dae0",
   "metadata": {},
   "outputs": [],
   "source": []
  },
  {
   "cell_type": "code",
   "execution_count": null,
   "id": "60762be5",
   "metadata": {},
   "outputs": [],
   "source": []
  },
  {
   "cell_type": "code",
   "execution_count": 141,
   "id": "891349ad",
   "metadata": {},
   "outputs": [],
   "source": [
    "class bonuscalculator:\n",
    "    def __init__(self,empid,emprating):\n",
    "        self.empid=empid\n",
    "        self.emprating=emprating\n",
    "        self.__bonousforratingsA = \"70%\"\n",
    "        self.__bonousforratingB = \"60%\"\n",
    "        self.__bonousforratingC = \"40%\"\n",
    "    \n",
    "    def bonuscalculator(self):\n",
    "        if self.emprating == \"A\":\n",
    "            bonus = self.__bonousforratingsA\n",
    "            return bonus\n",
    "        elif self.emprating==\"B\":\n",
    "            bonus =  self.__bonousforratingB\n",
    "            return bonus\n",
    "        else:\n",
    "            bonus = self.__bonousforratingC\n",
    "            return bonus\n",
    "        "
   ]
  },
  {
   "cell_type": "code",
   "execution_count": 142,
   "id": "7b9d9279",
   "metadata": {},
   "outputs": [],
   "source": [
    "emp1 = bonuscalculator(101,\"A\")\n",
    "emp2 = bonuscalculator(102,\"B\")\n",
    "emp3 = bonuscalculator(103,\"c\")"
   ]
  },
  {
   "cell_type": "code",
   "execution_count": 143,
   "id": "73ee75e1",
   "metadata": {},
   "outputs": [
    {
     "data": {
      "text/plain": [
       "'70%'"
      ]
     },
     "execution_count": 143,
     "metadata": {},
     "output_type": "execute_result"
    }
   ],
   "source": [
    "emp1.bonuscalculator()"
   ]
  },
  {
   "cell_type": "code",
   "execution_count": 144,
   "id": "296db46f",
   "metadata": {},
   "outputs": [
    {
     "data": {
      "text/plain": [
       "'60%'"
      ]
     },
     "execution_count": 144,
     "metadata": {},
     "output_type": "execute_result"
    }
   ],
   "source": [
    "emp2.bonuscalculator()"
   ]
  },
  {
   "cell_type": "code",
   "execution_count": 145,
   "id": "a2b9a841",
   "metadata": {},
   "outputs": [
    {
     "data": {
      "text/plain": [
       "'40%'"
      ]
     },
     "execution_count": 145,
     "metadata": {},
     "output_type": "execute_result"
    }
   ],
   "source": [
    "emp3.bonuscalculator()"
   ]
  },
  {
   "cell_type": "code",
   "execution_count": null,
   "id": "0f41cac0",
   "metadata": {},
   "outputs": [],
   "source": []
  }
 ],
 "metadata": {
  "kernelspec": {
   "display_name": "Python 3 (ipykernel)",
   "language": "python",
   "name": "python3"
  },
  "language_info": {
   "codemirror_mode": {
    "name": "ipython",
    "version": 3
   },
   "file_extension": ".py",
   "mimetype": "text/x-python",
   "name": "python",
   "nbconvert_exporter": "python",
   "pygments_lexer": "ipython3",
   "version": "3.11.5"
  }
 },
 "nbformat": 4,
 "nbformat_minor": 5
}
