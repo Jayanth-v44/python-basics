{
 "cells": [
  {
   "cell_type": "code",
   "execution_count": 1,
   "id": "6aa19f22",
   "metadata": {},
   "outputs": [],
   "source": [
    "a =10 "
   ]
  },
  {
   "cell_type": "code",
   "execution_count": 9,
   "id": "c56d7595",
   "metadata": {},
   "outputs": [
    {
     "name": "stdout",
     "output_type": "stream",
     "text": [
      "my name is jayanth\n"
     ]
    }
   ],
   "source": [
    "if a<15:\n",
    "    print(\"my name is jayanth\")"
   ]
  },
  {
   "cell_type": "code",
   "execution_count": 10,
   "id": "7e3043f7",
   "metadata": {},
   "outputs": [],
   "source": [
    "if a<15:\n",
    "    pass"
   ]
  },
  {
   "cell_type": "code",
   "execution_count": 11,
   "id": "5b27a679",
   "metadata": {},
   "outputs": [
    {
     "name": "stdout",
     "output_type": "stream",
     "text": [
      "control statements\n"
     ]
    }
   ],
   "source": [
    "if a<15 :\n",
    "    print(\"control statements\")"
   ]
  },
  {
   "cell_type": "code",
   "execution_count": 12,
   "id": "c9898c90",
   "metadata": {},
   "outputs": [],
   "source": [
    "if 24 <15:\n",
    "    print(\"hello\")"
   ]
  },
  {
   "cell_type": "code",
   "execution_count": 13,
   "id": "53f2c858",
   "metadata": {},
   "outputs": [
    {
     "data": {
      "text/plain": [
       "False"
      ]
     },
     "execution_count": 13,
     "metadata": {},
     "output_type": "execute_result"
    }
   ],
   "source": [
    "24<15"
   ]
  },
  {
   "cell_type": "code",
   "execution_count": 14,
   "id": "20f6531b",
   "metadata": {},
   "outputs": [
    {
     "name": "stdout",
     "output_type": "stream",
     "text": [
      "is true\n"
     ]
    }
   ],
   "source": [
    "if 10<3:\n",
    "    print(\"is false\")\n",
    "else :\n",
    "    print(\"is true\")"
   ]
  },
  {
   "cell_type": "code",
   "execution_count": 16,
   "id": "1da66d5c",
   "metadata": {},
   "outputs": [
    {
     "name": "stdout",
     "output_type": "stream",
     "text": [
      "is true\n"
     ]
    }
   ],
   "source": [
    "if 5<10:\n",
    "    print(\"is true\")\n",
    "else:\n",
    "    print(\"is false\")"
   ]
  },
  {
   "cell_type": "code",
   "execution_count": 17,
   "id": "4b0a5932",
   "metadata": {},
   "outputs": [
    {
     "name": "stdout",
     "output_type": "stream",
     "text": [
      "i wont be able to buy anything\n"
     ]
    }
   ],
   "source": [
    "income =100\n",
    "if income<50:\n",
    "    print (\"i will be able to buy ph\")\n",
    "elif income < 70:\n",
    "    print(\"i will able to buy car\")\n",
    "elif income<90:\n",
    "    print(\"i will be able to buy a w machine\")\n",
    "else :\n",
    "    print(\"i wont be able to buy anything\")"
   ]
  },
  {
   "cell_type": "code",
   "execution_count": 21,
   "id": "7a0f5edb",
   "metadata": {},
   "outputs": [
    {
     "name": "stdout",
     "output_type": "stream",
     "text": [
      "68\n",
      "i will able to buy car\n"
     ]
    }
   ],
   "source": [
    "income =int(input())\n",
    "if income<50:\n",
    "    print (\"i will be able to buy ph\")\n",
    "elif income < 70:\n",
    "    print(\"i will able to buy car\")\n",
    "elif income<90:\n",
    "    print(\"i will be able to buy a w machine\")\n",
    "else :\n",
    "    print(\"i wont be able to buy anything\")"
   ]
  },
  {
   "cell_type": "code",
   "execution_count": 24,
   "id": "bd450d05",
   "metadata": {},
   "outputs": [
    {
     "name": "stdout",
     "output_type": "stream",
     "text": [
      "4565\n",
      "Discount will be  228.25\n"
     ]
    }
   ],
   "source": [
    "total_price = int(input())\n",
    "if total_price > 20000:\n",
    "    discount = total_price*.20\n",
    "    print(\"Discount will be \", discount)\n",
    "elif total_price <= 20000:\n",
    "    discount = total_price*.05\n",
    "    print(\"Discount will be \",discount)\n",
    "else:\n",
    "    print(\"no discount\")\n",
    "    "
   ]
  },
  {
   "cell_type": "code",
   "execution_count": 26,
   "id": "026ea4ce",
   "metadata": {},
   "outputs": [
    {
     "name": "stdout",
     "output_type": "stream",
     "text": [
      "dis of 5%\n",
      "one neuron  3540.0\n"
     ]
    }
   ],
   "source": [
    "coup = \"ABCD5\"\n",
    "if coup == \"ABCD5\":\n",
    "    print(\"dis of 5%\")\n",
    "    paid_amount = 7080-7080*.5\n",
    "    print(\"one neuron \", paid_amount)\n",
    "else:\n",
    "    print(\"use a valid coup code\")"
   ]
  },
  {
   "cell_type": "code",
   "execution_count": 27,
   "id": "989ff2dc",
   "metadata": {},
   "outputs": [
    {
     "name": "stdout",
     "output_type": "stream",
     "text": [
      "abcd5\n",
      "use a valid coup code\n"
     ]
    }
   ],
   "source": [
    "coup = input()\n",
    "if coup == \"ABCD5\":\n",
    "    print(\"dis of 5%\")\n",
    "    paid_amount = 7080-7080*.5\n",
    "    print(\"one neuron \", paid_amount)\n",
    "else:\n",
    "    print(\"use a valid coup code\")"
   ]
  },
  {
   "cell_type": "code",
   "execution_count": 36,
   "id": "58a58b7a",
   "metadata": {},
   "outputs": [
    {
     "name": "stdout",
     "output_type": "stream",
     "text": [
      "4\n",
      " 6m to transition\n"
     ]
    }
   ],
   "source": [
    "study_hour =int(input())\n",
    "if study_hour <1:\n",
    "    print(\"7m to transition\")\n",
    "elif study_hour >1 and study_hour<5:\n",
    "    print(\" 6m to transition\")\n",
    "elif study_hour > 10:\n",
    "    print(\"approx 3m to transtion\")\n",
    "else:\n",
    "    print(\"difficult\")"
   ]
  },
  {
   "cell_type": "code",
   "execution_count": null,
   "id": "ceefc2fc",
   "metadata": {},
   "outputs": [],
   "source": [
    "s = input()\n",
    "course = input()\n",
    "service= input()\n",
    "if s == \"oneneuron\":\n",
    "    if course == \"DSA\":\n",
    "        print(\"yes its available under oneneuron\")\n",
    "    elif course == \"Blockchain\":\n",
    "        print(\"currently not under oneneuron\")\n",
    "    elif course == \"FSDS\":\n",
    "        print(\"yes , its under oneneuron\")\n",
    "    else:\n",
    "        print(\"req ur demand\")\n",
    "elif s = \"oneneuronservice\":\n",
    "    if service == \"courserequest\"\n",
    "    "
   ]
  },
  {
   "cell_type": "code",
   "execution_count": 39,
   "id": "2ed39421",
   "metadata": {},
   "outputs": [
    {
     "name": "stdout",
     "output_type": "stream",
     "text": [
      "1\n",
      "2\n",
      "3\n",
      "4\n",
      "5\n",
      "6\n",
      "7\n"
     ]
    }
   ],
   "source": [
    "l = [1,2,3,4,5,6,7]\n",
    "for i in l:\n",
    "    print(i)"
   ]
  },
  {
   "cell_type": "code",
   "execution_count": 44,
   "id": "1e813962",
   "metadata": {},
   "outputs": [
    {
     "name": "stdout",
     "output_type": "stream",
     "text": [
      "s\n",
      "u\n",
      "d\n",
      "h\n"
     ]
    }
   ],
   "source": [
    "\n",
    "for i in \"sudh\":\n",
    "    print(i)"
   ]
  },
  {
   "cell_type": "code",
   "execution_count": 45,
   "id": "a7d04888",
   "metadata": {},
   "outputs": [],
   "source": [
    "t = (1,2,3,4,5)"
   ]
  },
  {
   "cell_type": "code",
   "execution_count": 46,
   "id": "6d54c5dd",
   "metadata": {},
   "outputs": [
    {
     "name": "stdout",
     "output_type": "stream",
     "text": [
      "1\n",
      "2\n",
      "3\n",
      "4\n",
      "5\n"
     ]
    }
   ],
   "source": [
    "for i in t:\n",
    "    print(i)"
   ]
  },
  {
   "cell_type": "code",
   "execution_count": 49,
   "id": "1f7f4302",
   "metadata": {},
   "outputs": [
    {
     "name": "stdout",
     "output_type": "stream",
     "text": [
      "<class 'int'>\n",
      "<class 'int'>\n",
      "<class 'float'>\n",
      "<class 'complex'>\n",
      "<class 'str'>\n"
     ]
    }
   ],
   "source": [
    "l = [1 , 4 , 5.6 , 4+7j ,\"sudh\"]\n",
    "for i in l:\n",
    "    print(type(i))"
   ]
  },
  {
   "cell_type": "code",
   "execution_count": 50,
   "id": "2343d35a",
   "metadata": {},
   "outputs": [
    {
     "name": "stdout",
     "output_type": "stream",
     "text": [
      "<class 'int'> type of 1\n",
      "<class 'int'> type of 4\n",
      "<class 'float'> type of 5.6\n",
      "<class 'complex'> type of (4+7j)\n",
      "<class 'str'> type of sudh\n"
     ]
    }
   ],
   "source": [
    "l = [1 , 4 , 5.6 , 4+7j ,\"sudh\"]\n",
    "for i in l:\n",
    "    print(type(i) ,\"type of\" ,i)"
   ]
  },
  {
   "cell_type": "code",
   "execution_count": 51,
   "id": "04453dfa",
   "metadata": {},
   "outputs": [
    {
     "name": "stdout",
     "output_type": "stream",
     "text": [
      "3\n",
      "6\n",
      "7.6\n"
     ]
    }
   ],
   "source": [
    "l =[1,4,5.6]\n",
    "for i in l :\n",
    "    print(i+2)"
   ]
  },
  {
   "cell_type": "code",
   "execution_count": 52,
   "id": "2cc69ec7",
   "metadata": {},
   "outputs": [
    {
     "name": "stdout",
     "output_type": "stream",
     "text": [
      "3\n",
      "6\n",
      "7.6\n"
     ]
    }
   ],
   "source": [
    "l =[1,4,5.6]\n",
    "l1 =[]\n",
    "for i in l :\n",
    "    print(i+2)\n",
    "    l1.append(i+2)"
   ]
  },
  {
   "cell_type": "code",
   "execution_count": 53,
   "id": "1ede5e2b",
   "metadata": {},
   "outputs": [
    {
     "data": {
      "text/plain": [
       "[3, 6, 7.6]"
      ]
     },
     "execution_count": 53,
     "metadata": {},
     "output_type": "execute_result"
    }
   ],
   "source": [
    "l1"
   ]
  },
  {
   "cell_type": "code",
   "execution_count": 64,
   "id": "9cebdd83",
   "metadata": {},
   "outputs": [],
   "source": [
    "l =[2,45,78,12,\"sudh\", 1+3j, [45,34,5,56]]"
   ]
  },
  {
   "cell_type": "code",
   "execution_count": 66,
   "id": "bea11889",
   "metadata": {},
   "outputs": [
    {
     "name": "stdout",
     "output_type": "stream",
     "text": [
      "2\n",
      "45\n",
      "78\n",
      "12\n"
     ]
    }
   ],
   "source": [
    "for i in l:\n",
    "    if type(i)==int:\n",
    "        print(i)\n",
    "        "
   ]
  },
  {
   "cell_type": "code",
   "execution_count": 67,
   "id": "5501e1fa",
   "metadata": {},
   "outputs": [],
   "source": [
    "l =[2,45 , 78 ,12 ,\"sudh\",6+7j,[56,67,78,\"abcdef\"]]\n",
    "#q1 . try to print index of all the element \n",
    "#q2 . try to extract all the list of char if element is string\n",
    "#q3 . try to return a list after doing a square of all the int element"
   ]
  },
  {
   "cell_type": "code",
   "execution_count": 4,
   "id": "e7a2d4df",
   "metadata": {},
   "outputs": [],
   "source": [
    "l =[2,45 , 78 ,12,12,12,12 ,\"sudh\",\"kumar\",6+7j,[56,67,78,\"abcdef\"]]"
   ]
  },
  {
   "cell_type": "code",
   "execution_count": 5,
   "id": "d68278b8",
   "metadata": {},
   "outputs": [
    {
     "data": {
      "text/plain": [
       "range(0, 4)"
      ]
     },
     "execution_count": 5,
     "metadata": {},
     "output_type": "execute_result"
    }
   ],
   "source": [
    "range(4)"
   ]
  },
  {
   "cell_type": "code",
   "execution_count": 6,
   "id": "0215f5b8",
   "metadata": {},
   "outputs": [
    {
     "data": {
      "text/plain": [
       "11"
      ]
     },
     "execution_count": 6,
     "metadata": {},
     "output_type": "execute_result"
    }
   ],
   "source": [
    "len(l)"
   ]
  },
  {
   "cell_type": "code",
   "execution_count": 7,
   "id": "a1a0e5c5",
   "metadata": {},
   "outputs": [
    {
     "name": "stdout",
     "output_type": "stream",
     "text": [
      "index 0 for an element 2\n",
      "index 1 for an element 45\n",
      "index 2 for an element 78\n",
      "index 3 for an element 12\n",
      "index 4 for an element 12\n",
      "index 5 for an element 12\n",
      "index 6 for an element 12\n",
      "index 7 for an element sudh\n",
      "index 8 for an element kumar\n",
      "index 9 for an element (6+7j)\n",
      "index 10 for an element [56, 67, 78, 'abcdef']\n"
     ]
    }
   ],
   "source": [
    "for i in range(len(l)):\n",
    "    print(\"index\",i ,\"for an element\",l[i])"
   ]
  },
  {
   "cell_type": "code",
   "execution_count": 8,
   "id": "f3d61c56",
   "metadata": {},
   "outputs": [
    {
     "name": "stdout",
     "output_type": "stream",
     "text": [
      "(0, 2)\n",
      "(1, 45)\n",
      "(2, 78)\n",
      "(3, 12)\n",
      "(4, 12)\n",
      "(5, 12)\n",
      "(6, 12)\n",
      "(7, 'sudh')\n",
      "(8, 'kumar')\n",
      "(9, (6+7j))\n",
      "(10, [56, 67, 78, 'abcdef'])\n"
     ]
    }
   ],
   "source": [
    "for i in enumerate(l):\n",
    "    print(i)"
   ]
  },
  {
   "cell_type": "code",
   "execution_count": 9,
   "id": "e7a03fb4",
   "metadata": {},
   "outputs": [
    {
     "data": {
      "text/plain": [
       "[2, 45, 78, 12, 12, 12, 12, 'sudh', 'kumar', (6+7j), [56, 67, 78, 'abcdef']]"
      ]
     },
     "execution_count": 9,
     "metadata": {},
     "output_type": "execute_result"
    }
   ],
   "source": [
    "l"
   ]
  },
  {
   "cell_type": "code",
   "execution_count": 10,
   "id": "7ae9e8e2",
   "metadata": {},
   "outputs": [
    {
     "name": "stdout",
     "output_type": "stream",
     "text": [
      "['s', 'u', 'd', 'h']\n",
      "['k', 'u', 'm', 'a', 'r']\n"
     ]
    }
   ],
   "source": [
    "#q2\n",
    "for i in l:\n",
    "    if type(i)==str:\n",
    "        l1 =[]\n",
    "        for j in i:\n",
    "            l1.append(j)\n",
    "        print(l1)"
   ]
  },
  {
   "cell_type": "code",
   "execution_count": 11,
   "id": "478d25ab",
   "metadata": {},
   "outputs": [
    {
     "data": {
      "text/plain": [
       "[2, 45, 78, 12, 12, 12, 12, 'sudh', 'kumar', (6+7j), [56, 67, 78, 'abcdef']]"
      ]
     },
     "execution_count": 11,
     "metadata": {},
     "output_type": "execute_result"
    }
   ],
   "source": [
    "l"
   ]
  },
  {
   "cell_type": "code",
   "execution_count": 12,
   "id": "2c7aec0b",
   "metadata": {},
   "outputs": [],
   "source": [
    "#q3\n",
    "l2=[]\n",
    "for i in  l:\n",
    "    if type(i)== int:\n",
    "        l2.append(i**2)\n",
    "        \n",
    "        "
   ]
  },
  {
   "cell_type": "code",
   "execution_count": 13,
   "id": "cd9f878d",
   "metadata": {},
   "outputs": [
    {
     "data": {
      "text/plain": [
       "[4, 2025, 6084, 144, 144, 144, 144]"
      ]
     },
     "execution_count": 13,
     "metadata": {},
     "output_type": "execute_result"
    }
   ],
   "source": [
    "l2"
   ]
  },
  {
   "cell_type": "code",
   "execution_count": null,
   "id": "834edec1",
   "metadata": {},
   "outputs": [],
   "source": []
  }
 ],
 "metadata": {
  "kernelspec": {
   "display_name": "Python 3 (ipykernel)",
   "language": "python",
   "name": "python3"
  },
  "language_info": {
   "codemirror_mode": {
    "name": "ipython",
    "version": 3
   },
   "file_extension": ".py",
   "mimetype": "text/x-python",
   "name": "python",
   "nbconvert_exporter": "python",
   "pygments_lexer": "ipython3",
   "version": "3.11.5"
  }
 },
 "nbformat": 4,
 "nbformat_minor": 5
}
