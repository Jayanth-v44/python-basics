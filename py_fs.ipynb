{
 "cells": [
  {
   "cell_type": "code",
   "execution_count": 7,
   "id": "db0bcb77",
   "metadata": {},
   "outputs": [],
   "source": [
    "l = [1,2,3,4,5]"
   ]
  },
  {
   "cell_type": "code",
   "execution_count": 10,
   "id": "48baa91a",
   "metadata": {},
   "outputs": [],
   "source": [
    "l  = iter(l)"
   ]
  },
  {
   "cell_type": "code",
   "execution_count": 11,
   "id": "46e172bd",
   "metadata": {},
   "outputs": [
    {
     "data": {
      "text/plain": [
       "1"
      ]
     },
     "execution_count": 11,
     "metadata": {},
     "output_type": "execute_result"
    }
   ],
   "source": [
    "next(l)"
   ]
  },
  {
   "cell_type": "code",
   "execution_count": 13,
   "id": "754a2fde",
   "metadata": {},
   "outputs": [
    {
     "data": {
      "text/plain": [
       "3"
      ]
     },
     "execution_count": 13,
     "metadata": {},
     "output_type": "execute_result"
    }
   ],
   "source": [
    "next(l)"
   ]
  },
  {
   "cell_type": "code",
   "execution_count": 14,
   "id": "68d48562",
   "metadata": {},
   "outputs": [
    {
     "data": {
      "text/plain": [
       "4"
      ]
     },
     "execution_count": 14,
     "metadata": {},
     "output_type": "execute_result"
    }
   ],
   "source": [
    "next(l)"
   ]
  },
  {
   "cell_type": "code",
   "execution_count": 15,
   "id": "2d441835",
   "metadata": {},
   "outputs": [
    {
     "data": {
      "text/plain": [
       "5"
      ]
     },
     "execution_count": 15,
     "metadata": {},
     "output_type": "execute_result"
    }
   ],
   "source": [
    "next(l)"
   ]
  },
  {
   "cell_type": "code",
   "execution_count": 16,
   "id": "97e0b9ba",
   "metadata": {},
   "outputs": [
    {
     "ename": "StopIteration",
     "evalue": "",
     "output_type": "error",
     "traceback": [
      "\u001b[1;31m---------------------------------------------------------------------------\u001b[0m",
      "\u001b[1;31mStopIteration\u001b[0m                             Traceback (most recent call last)",
      "Cell \u001b[1;32mIn[16], line 1\u001b[0m\n\u001b[1;32m----> 1\u001b[0m \u001b[38;5;28mnext\u001b[39m(l)\n",
      "\u001b[1;31mStopIteration\u001b[0m: "
     ]
    }
   ],
   "source": [
    "next(l)"
   ]
  },
  {
   "cell_type": "code",
   "execution_count": 18,
   "id": "fa3299ec",
   "metadata": {},
   "outputs": [],
   "source": [
    "a =56"
   ]
  },
  {
   "cell_type": "code",
   "execution_count": 19,
   "id": "8819f7ea",
   "metadata": {},
   "outputs": [
    {
     "ename": "TypeError",
     "evalue": "'int' object is not an iterator",
     "output_type": "error",
     "traceback": [
      "\u001b[1;31m---------------------------------------------------------------------------\u001b[0m",
      "\u001b[1;31mTypeError\u001b[0m                                 Traceback (most recent call last)",
      "Cell \u001b[1;32mIn[19], line 1\u001b[0m\n\u001b[1;32m----> 1\u001b[0m \u001b[38;5;28mnext\u001b[39m(a)\n",
      "\u001b[1;31mTypeError\u001b[0m: 'int' object is not an iterator"
     ]
    }
   ],
   "source": [
    "next(a)"
   ]
  },
  {
   "cell_type": "code",
   "execution_count": 20,
   "id": "522a690c",
   "metadata": {},
   "outputs": [
    {
     "ename": "TypeError",
     "evalue": "'int' object is not iterable",
     "output_type": "error",
     "traceback": [
      "\u001b[1;31m---------------------------------------------------------------------------\u001b[0m",
      "\u001b[1;31mTypeError\u001b[0m                                 Traceback (most recent call last)",
      "Cell \u001b[1;32mIn[20], line 1\u001b[0m\n\u001b[1;32m----> 1\u001b[0m a \u001b[38;5;241m=\u001b[39m \u001b[38;5;28miter\u001b[39m(a)\n",
      "\u001b[1;31mTypeError\u001b[0m: 'int' object is not iterable"
     ]
    }
   ],
   "source": [
    "a = iter(a)"
   ]
  },
  {
   "cell_type": "code",
   "execution_count": 21,
   "id": "cfebfdbc",
   "metadata": {},
   "outputs": [],
   "source": [
    "t = (5,6,7,8)"
   ]
  },
  {
   "cell_type": "code",
   "execution_count": 22,
   "id": "98d19e0b",
   "metadata": {},
   "outputs": [
    {
     "ename": "TypeError",
     "evalue": "'tuple' object is not an iterator",
     "output_type": "error",
     "traceback": [
      "\u001b[1;31m---------------------------------------------------------------------------\u001b[0m",
      "\u001b[1;31mTypeError\u001b[0m                                 Traceback (most recent call last)",
      "Cell \u001b[1;32mIn[22], line 1\u001b[0m\n\u001b[1;32m----> 1\u001b[0m \u001b[38;5;28mnext\u001b[39m(t)\n",
      "\u001b[1;31mTypeError\u001b[0m: 'tuple' object is not an iterator"
     ]
    }
   ],
   "source": [
    "next(t)"
   ]
  },
  {
   "cell_type": "code",
   "execution_count": 23,
   "id": "115f046a",
   "metadata": {},
   "outputs": [],
   "source": [
    "t= iter(t)"
   ]
  },
  {
   "cell_type": "code",
   "execution_count": 24,
   "id": "c1c2094f",
   "metadata": {},
   "outputs": [
    {
     "data": {
      "text/plain": [
       "5"
      ]
     },
     "execution_count": 24,
     "metadata": {},
     "output_type": "execute_result"
    }
   ],
   "source": [
    "next(t)"
   ]
  },
  {
   "cell_type": "code",
   "execution_count": 25,
   "id": "197846bd",
   "metadata": {},
   "outputs": [
    {
     "data": {
      "text/plain": [
       "6"
      ]
     },
     "execution_count": 25,
     "metadata": {},
     "output_type": "execute_result"
    }
   ],
   "source": [
    "next(t)"
   ]
  },
  {
   "cell_type": "code",
   "execution_count": 26,
   "id": "c972d403",
   "metadata": {},
   "outputs": [
    {
     "data": {
      "text/plain": [
       "7"
      ]
     },
     "execution_count": 26,
     "metadata": {},
     "output_type": "execute_result"
    }
   ],
   "source": [
    "next(t)"
   ]
  },
  {
   "cell_type": "code",
   "execution_count": 27,
   "id": "8bb38c81",
   "metadata": {},
   "outputs": [
    {
     "data": {
      "text/plain": [
       "8"
      ]
     },
     "execution_count": 27,
     "metadata": {},
     "output_type": "execute_result"
    }
   ],
   "source": [
    "next(t)"
   ]
  },
  {
   "cell_type": "code",
   "execution_count": 41,
   "id": "229cd5f2",
   "metadata": {},
   "outputs": [],
   "source": [
    "r=range(6)"
   ]
  },
  {
   "cell_type": "code",
   "execution_count": 42,
   "id": "68d113a6",
   "metadata": {},
   "outputs": [
    {
     "ename": "TypeError",
     "evalue": "'range' object is not an iterator",
     "output_type": "error",
     "traceback": [
      "\u001b[1;31m---------------------------------------------------------------------------\u001b[0m",
      "\u001b[1;31mTypeError\u001b[0m                                 Traceback (most recent call last)",
      "Cell \u001b[1;32mIn[42], line 1\u001b[0m\n\u001b[1;32m----> 1\u001b[0m \u001b[38;5;28mnext\u001b[39m(r)\n",
      "\u001b[1;31mTypeError\u001b[0m: 'range' object is not an iterator"
     ]
    }
   ],
   "source": [
    "next(r)"
   ]
  },
  {
   "cell_type": "code",
   "execution_count": 43,
   "id": "2f322f08",
   "metadata": {},
   "outputs": [],
   "source": [
    "r = iter(r)"
   ]
  },
  {
   "cell_type": "code",
   "execution_count": 44,
   "id": "cc247f42",
   "metadata": {},
   "outputs": [
    {
     "data": {
      "text/plain": [
       "0"
      ]
     },
     "execution_count": 44,
     "metadata": {},
     "output_type": "execute_result"
    }
   ],
   "source": [
    "next(r)"
   ]
  },
  {
   "cell_type": "code",
   "execution_count": 45,
   "id": "35d9cf3f",
   "metadata": {},
   "outputs": [
    {
     "data": {
      "text/plain": [
       "1"
      ]
     },
     "execution_count": 45,
     "metadata": {},
     "output_type": "execute_result"
    }
   ],
   "source": [
    "next(r)"
   ]
  },
  {
   "cell_type": "code",
   "execution_count": 46,
   "id": "2c6f71e1",
   "metadata": {},
   "outputs": [
    {
     "data": {
      "text/plain": [
       "2"
      ]
     },
     "execution_count": 46,
     "metadata": {},
     "output_type": "execute_result"
    }
   ],
   "source": [
    "next(r)"
   ]
  },
  {
   "cell_type": "code",
   "execution_count": null,
   "id": "7133cc08",
   "metadata": {},
   "outputs": [],
   "source": []
  },
  {
   "cell_type": "code",
   "execution_count": null,
   "id": "2367342e",
   "metadata": {},
   "outputs": [],
   "source": [
    "#Generator"
   ]
  },
  {
   "cell_type": "code",
   "execution_count": null,
   "id": "ad29e1e6",
   "metadata": {},
   "outputs": [],
   "source": []
  },
  {
   "cell_type": "code",
   "execution_count": 47,
   "id": "a718972b",
   "metadata": {},
   "outputs": [
    {
     "data": {
      "text/plain": [
       "[0, 3, 6, 9, 12, 15, 18, 21, 24, 27, 30, 33, 36, 39, 42]"
      ]
     },
     "execution_count": 47,
     "metadata": {},
     "output_type": "execute_result"
    }
   ],
   "source": [
    "list(range(0,45,3))"
   ]
  },
  {
   "cell_type": "code",
   "execution_count": 56,
   "id": "e5f9c23e",
   "metadata": {},
   "outputs": [],
   "source": [
    "def gencube(n):\n",
    "    for i in range(n):\n",
    "        return i**3"
   ]
  },
  {
   "cell_type": "code",
   "execution_count": 57,
   "id": "5c606c3c",
   "metadata": {},
   "outputs": [
    {
     "data": {
      "text/plain": [
       "0"
      ]
     },
     "execution_count": 57,
     "metadata": {},
     "output_type": "execute_result"
    }
   ],
   "source": [
    "gencube(6)"
   ]
  },
  {
   "cell_type": "code",
   "execution_count": null,
   "id": "0e8c02d3",
   "metadata": {},
   "outputs": [],
   "source": []
  },
  {
   "cell_type": "code",
   "execution_count": 60,
   "id": "c5af70d2",
   "metadata": {},
   "outputs": [],
   "source": [
    "def gencube(n):\n",
    "    l =[]\n",
    "    for i in range(n):\n",
    "        l.append(i**3)\n",
    "    return l"
   ]
  },
  {
   "cell_type": "code",
   "execution_count": 61,
   "id": "87f49626",
   "metadata": {},
   "outputs": [
    {
     "data": {
      "text/plain": [
       "[0, 1, 8, 27, 64, 125]"
      ]
     },
     "execution_count": 61,
     "metadata": {},
     "output_type": "execute_result"
    }
   ],
   "source": [
    "gencube(6)"
   ]
  },
  {
   "cell_type": "code",
   "execution_count": null,
   "id": "72994c7e",
   "metadata": {},
   "outputs": [],
   "source": []
  },
  {
   "cell_type": "code",
   "execution_count": 63,
   "id": "2ddea272",
   "metadata": {},
   "outputs": [],
   "source": [
    "def gencube(n):\n",
    "    for i in range(n):\n",
    "        yield i**3"
   ]
  },
  {
   "cell_type": "code",
   "execution_count": 64,
   "id": "c6efdd0e",
   "metadata": {},
   "outputs": [
    {
     "data": {
      "text/plain": [
       "<generator object gencube at 0x000001C94EFFFB90>"
      ]
     },
     "execution_count": 64,
     "metadata": {},
     "output_type": "execute_result"
    }
   ],
   "source": [
    "gencube(10)"
   ]
  },
  {
   "cell_type": "code",
   "execution_count": 69,
   "id": "ba3f2f0c",
   "metadata": {},
   "outputs": [
    {
     "name": "stdout",
     "output_type": "stream",
     "text": [
      "0\n",
      "1\n",
      "8\n",
      "27\n",
      "64\n",
      "125\n",
      "216\n",
      "343\n",
      "512\n"
     ]
    }
   ],
   "source": [
    "for i in gencube(9):\n",
    "    print(i)"
   ]
  },
  {
   "cell_type": "code",
   "execution_count": null,
   "id": "1448cc4a",
   "metadata": {},
   "outputs": [],
   "source": []
  },
  {
   "cell_type": "code",
   "execution_count": 82,
   "id": "2d7c7ab4",
   "metadata": {},
   "outputs": [],
   "source": [
    "def fib(n):\n",
    "    a =1\n",
    "    b=1\n",
    "    for i in range(n):\n",
    "        yield a,i\n",
    "        a,b = b , a+b"
   ]
  },
  {
   "cell_type": "code",
   "execution_count": 83,
   "id": "4568b4eb",
   "metadata": {},
   "outputs": [
    {
     "name": "stdout",
     "output_type": "stream",
     "text": [
      "(1, 0)\n",
      "(1, 1)\n",
      "(2, 2)\n",
      "(3, 3)\n",
      "(5, 4)\n",
      "(8, 5)\n",
      "(13, 6)\n",
      "(21, 7)\n",
      "(34, 8)\n",
      "(55, 9)\n"
     ]
    }
   ],
   "source": [
    "for i in fib(10):\n",
    "    print(i)"
   ]
  },
  {
   "cell_type": "code",
   "execution_count": 88,
   "id": "b4797509",
   "metadata": {},
   "outputs": [],
   "source": [
    "# fibinoci series\n",
    "\n",
    "def fib1(n):\n",
    "    a=1\n",
    "    b=1\n",
    "    output = []\n",
    "    for i in range(n):\n",
    "        output.append(a)\n",
    "        a,b =b ,a+b\n",
    "    return output"
   ]
  },
  {
   "cell_type": "code",
   "execution_count": 89,
   "id": "c6e37d9c",
   "metadata": {},
   "outputs": [
    {
     "data": {
      "text/plain": [
       "[1, 1, 2, 3, 5, 8, 13, 21, 34, 55]"
      ]
     },
     "execution_count": 89,
     "metadata": {},
     "output_type": "execute_result"
    }
   ],
   "source": [
    "fib1(10)"
   ]
  },
  {
   "cell_type": "code",
   "execution_count": null,
   "id": "1d58e5e1",
   "metadata": {},
   "outputs": [],
   "source": []
  },
  {
   "cell_type": "code",
   "execution_count": null,
   "id": "95f07984",
   "metadata": {},
   "outputs": [],
   "source": []
  },
  {
   "cell_type": "code",
   "execution_count": 99,
   "id": "1d21f7ed",
   "metadata": {},
   "outputs": [],
   "source": [
    "f = open(\"test1.txt\" , \"w\" )"
   ]
  },
  {
   "cell_type": "code",
   "execution_count": 100,
   "id": "7a9d7273",
   "metadata": {},
   "outputs": [
    {
     "name": "stdout",
     "output_type": "stream",
     "text": [
      " Volume in drive C is System\n",
      " Volume Serial Number is E2D3-65BB\n",
      "\n",
      " Directory of C:\\Users\\JAYANV\\Jupyter\n",
      "\n",
      "24-11-2023  19:41    <DIR>          .\n",
      "10-11-2023  18:09    <DIR>          ..\n",
      "24-11-2023  16:09    <DIR>          .ipynb_checkpoints\n",
      "16-11-2023  11:36            15,030 Control Statements_c4.ipynb\n",
      "22-11-2023  18:09            16,342 Function_c7.ipynb\n",
      "24-11-2023  13:09            29,719 Function2_c8.ipynb\n",
      "24-11-2023  19:41            15,281 Iterator _Iterable _Generator_c9.ipynb\n",
      "17-11-2023  18:49            15,974 Loops _c5.ipynb\n",
      "17-11-2023  23:06            11,186 Loops_c6.ipynb\n",
      "07-11-2023  16:39            14,920 python basics_c1.ipynb\n",
      "11-11-2023  16:41            49,890 Srting,List ,Indexing_c2.ipynb\n",
      "24-11-2023  19:39                 0 test.txt\n",
      "24-11-2023  19:41                 0 test1.txt\n",
      "13-11-2023  18:13            39,750 Tuples , Set , Dictionary_c3.ipynb\n",
      "              11 File(s)        208,092 bytes\n",
      "               3 Dir(s)  114,317,975,552 bytes free\n"
     ]
    }
   ],
   "source": [
    " %ls"
   ]
  },
  {
   "cell_type": "code",
   "execution_count": 101,
   "id": "0d0b8318",
   "metadata": {},
   "outputs": [
    {
     "data": {
      "text/plain": [
       "'C:\\\\Users\\\\JAYANV\\\\Jupyter'"
      ]
     },
     "execution_count": 101,
     "metadata": {},
     "output_type": "execute_result"
    }
   ],
   "source": [
    "pwd()"
   ]
  },
  {
   "cell_type": "code",
   "execution_count": 102,
   "id": "bec38a4f",
   "metadata": {},
   "outputs": [],
   "source": [
    "f = open(\"test2.txt\" , \"w\")"
   ]
  },
  {
   "cell_type": "code",
   "execution_count": 103,
   "id": "12c2f36e",
   "metadata": {},
   "outputs": [
    {
     "data": {
      "text/plain": [
       "60"
      ]
     },
     "execution_count": 103,
     "metadata": {},
     "output_type": "execute_result"
    }
   ],
   "source": [
    "f.write(\"this is my first file operation to something in my test2.txt\")"
   ]
  },
  {
   "cell_type": "code",
   "execution_count": 104,
   "id": "0aade0f4",
   "metadata": {},
   "outputs": [],
   "source": [
    "f.close()"
   ]
  },
  {
   "cell_type": "code",
   "execution_count": null,
   "id": "f9a93a84",
   "metadata": {},
   "outputs": [],
   "source": []
  },
  {
   "cell_type": "code",
   "execution_count": 105,
   "id": "4882d8e5",
   "metadata": {},
   "outputs": [
    {
     "name": "stdout",
     "output_type": "stream",
     "text": [
      "Writing test3.txt\n"
     ]
    }
   ],
   "source": [
    "%%writefile test3.txt\n",
    "this is a data i would like to store in my file\n"
   ]
  },
  {
   "cell_type": "code",
   "execution_count": 106,
   "id": "d977fe3f",
   "metadata": {},
   "outputs": [
    {
     "name": "stdout",
     "output_type": "stream",
     "text": [
      " Volume in drive C is System\n",
      " Volume Serial Number is E2D3-65BB\n",
      "\n",
      " Directory of C:\\Users\\JAYANV\\Jupyter\n",
      "\n",
      "24-11-2023  19:52    <DIR>          .\n",
      "10-11-2023  18:09    <DIR>          ..\n",
      "24-11-2023  16:09    <DIR>          .ipynb_checkpoints\n",
      "16-11-2023  11:36            15,030 Control Statements_c4.ipynb\n",
      "22-11-2023  18:09            16,342 Function_c7.ipynb\n",
      "24-11-2023  13:09            29,719 Function2_c8.ipynb\n",
      "24-11-2023  19:49            16,406 Iterator _Iterable _Generator_c9.ipynb\n",
      "17-11-2023  18:49            15,974 Loops _c5.ipynb\n",
      "17-11-2023  23:06            11,186 Loops_c6.ipynb\n",
      "07-11-2023  16:39            14,920 python basics_c1.ipynb\n",
      "11-11-2023  16:41            49,890 Srting,List ,Indexing_c2.ipynb\n",
      "24-11-2023  19:39                 0 test.txt\n",
      "24-11-2023  19:41                 0 test1.txt\n",
      "24-11-2023  19:47                60 test2.txt\n",
      "24-11-2023  19:52                49 test3.txt\n",
      "13-11-2023  18:13            39,750 Tuples , Set , Dictionary_c3.ipynb\n",
      "              13 File(s)        209,326 bytes\n",
      "               3 Dir(s)  114,311,729,152 bytes free\n"
     ]
    }
   ],
   "source": [
    "%ls"
   ]
  },
  {
   "cell_type": "code",
   "execution_count": null,
   "id": "b0771fd0",
   "metadata": {},
   "outputs": [],
   "source": []
  },
  {
   "cell_type": "code",
   "execution_count": 107,
   "id": "b1fb1698",
   "metadata": {},
   "outputs": [],
   "source": [
    "f = open('test2.txt')"
   ]
  },
  {
   "cell_type": "code",
   "execution_count": 108,
   "id": "4474ae09",
   "metadata": {},
   "outputs": [
    {
     "data": {
      "text/plain": [
       "'this is my first file operation to something in my test2.txt'"
      ]
     },
     "execution_count": 108,
     "metadata": {},
     "output_type": "execute_result"
    }
   ],
   "source": [
    "f.read()"
   ]
  },
  {
   "cell_type": "code",
   "execution_count": 109,
   "id": "24941568",
   "metadata": {},
   "outputs": [
    {
     "data": {
      "text/plain": [
       "''"
      ]
     },
     "execution_count": 109,
     "metadata": {},
     "output_type": "execute_result"
    }
   ],
   "source": [
    "f.read()"
   ]
  },
  {
   "cell_type": "code",
   "execution_count": 110,
   "id": "13565aad",
   "metadata": {},
   "outputs": [
    {
     "data": {
      "text/plain": [
       "''"
      ]
     },
     "execution_count": 110,
     "metadata": {},
     "output_type": "execute_result"
    }
   ],
   "source": [
    "f.read()"
   ]
  },
  {
   "cell_type": "code",
   "execution_count": 112,
   "id": "f90d45df",
   "metadata": {},
   "outputs": [
    {
     "data": {
      "text/plain": [
       "5"
      ]
     },
     "execution_count": 112,
     "metadata": {},
     "output_type": "execute_result"
    }
   ],
   "source": [
    "f.seek(5)"
   ]
  },
  {
   "cell_type": "code",
   "execution_count": 113,
   "id": "31b9bc54",
   "metadata": {},
   "outputs": [
    {
     "data": {
      "text/plain": [
       "'is my first file operation to something in my test2.txt'"
      ]
     },
     "execution_count": 113,
     "metadata": {},
     "output_type": "execute_result"
    }
   ],
   "source": [
    "f.read()"
   ]
  },
  {
   "cell_type": "code",
   "execution_count": 114,
   "id": "1540cd72",
   "metadata": {},
   "outputs": [
    {
     "data": {
      "text/plain": [
       "0"
      ]
     },
     "execution_count": 114,
     "metadata": {},
     "output_type": "execute_result"
    }
   ],
   "source": [
    "f.seek(0)"
   ]
  },
  {
   "cell_type": "code",
   "execution_count": 115,
   "id": "57c98a5c",
   "metadata": {},
   "outputs": [
    {
     "data": {
      "text/plain": [
       "'this is my first file operation to something in my test2.txt'"
      ]
     },
     "execution_count": 115,
     "metadata": {},
     "output_type": "execute_result"
    }
   ],
   "source": [
    "f.read()"
   ]
  },
  {
   "cell_type": "code",
   "execution_count": 116,
   "id": "a35ff6bc",
   "metadata": {},
   "outputs": [
    {
     "data": {
      "text/plain": [
       "''"
      ]
     },
     "execution_count": 116,
     "metadata": {},
     "output_type": "execute_result"
    }
   ],
   "source": [
    "f.read()"
   ]
  },
  {
   "cell_type": "code",
   "execution_count": 117,
   "id": "5672d6f7",
   "metadata": {},
   "outputs": [
    {
     "data": {
      "text/plain": [
       "0"
      ]
     },
     "execution_count": 117,
     "metadata": {},
     "output_type": "execute_result"
    }
   ],
   "source": [
    "f.seek(0)"
   ]
  },
  {
   "cell_type": "code",
   "execution_count": 118,
   "id": "be451797",
   "metadata": {},
   "outputs": [
    {
     "data": {
      "text/plain": [
       "'this is my first file operation to something in my test2.txt'"
      ]
     },
     "execution_count": 118,
     "metadata": {},
     "output_type": "execute_result"
    }
   ],
   "source": [
    "f.read()"
   ]
  },
  {
   "cell_type": "code",
   "execution_count": null,
   "id": "1d609c84",
   "metadata": {},
   "outputs": [],
   "source": []
  },
  {
   "cell_type": "code",
   "execution_count": 120,
   "id": "2628282b",
   "metadata": {},
   "outputs": [
    {
     "data": {
      "text/plain": [
       "60"
      ]
     },
     "execution_count": 120,
     "metadata": {},
     "output_type": "execute_result"
    }
   ],
   "source": [
    "# tell() -> gives the current cursor position \n",
    "\n",
    "f.tell()"
   ]
  },
  {
   "cell_type": "code",
   "execution_count": 121,
   "id": "27acd65c",
   "metadata": {},
   "outputs": [
    {
     "data": {
      "text/plain": [
       "5"
      ]
     },
     "execution_count": 121,
     "metadata": {},
     "output_type": "execute_result"
    }
   ],
   "source": [
    "f.seek(5)"
   ]
  },
  {
   "cell_type": "code",
   "execution_count": 122,
   "id": "4511f5d4",
   "metadata": {},
   "outputs": [
    {
     "data": {
      "text/plain": [
       "5"
      ]
     },
     "execution_count": 122,
     "metadata": {},
     "output_type": "execute_result"
    }
   ],
   "source": [
    "f.tell()"
   ]
  },
  {
   "cell_type": "code",
   "execution_count": 124,
   "id": "7e78340d",
   "metadata": {},
   "outputs": [],
   "source": [
    "f.close()"
   ]
  },
  {
   "cell_type": "code",
   "execution_count": null,
   "id": "b5e49f00",
   "metadata": {},
   "outputs": [],
   "source": []
  },
  {
   "cell_type": "code",
   "execution_count": 129,
   "id": "7972de3f",
   "metadata": {},
   "outputs": [],
   "source": [
    "f = open(\"test2.txt\" , \"r+\")"
   ]
  },
  {
   "cell_type": "code",
   "execution_count": 138,
   "id": "ad56e900",
   "metadata": {},
   "outputs": [
    {
     "data": {
      "text/plain": [
       "' ada sadasbasjjask  jkasdwkldmqwwqewrewrerwd sadwqfwq\\n\\nadwfefwegrszcdsvfdhtjukyukk wdwqrrer eewwgrg wawdwfg efewfweg wefewfew'"
      ]
     },
     "execution_count": 138,
     "metadata": {},
     "output_type": "execute_result"
    }
   ],
   "source": [
    "f.read()"
   ]
  },
  {
   "cell_type": "code",
   "execution_count": 139,
   "id": "e041aeb9",
   "metadata": {},
   "outputs": [
    {
     "data": {
      "text/plain": [
       "''"
      ]
     },
     "execution_count": 139,
     "metadata": {},
     "output_type": "execute_result"
    }
   ],
   "source": [
    "f.readline()"
   ]
  },
  {
   "cell_type": "code",
   "execution_count": 140,
   "id": "567cce4b",
   "metadata": {},
   "outputs": [
    {
     "data": {
      "text/plain": [
       "187"
      ]
     },
     "execution_count": 140,
     "metadata": {},
     "output_type": "execute_result"
    }
   ],
   "source": [
    "f.tell()"
   ]
  },
  {
   "cell_type": "code",
   "execution_count": 141,
   "id": "93397a49",
   "metadata": {},
   "outputs": [
    {
     "data": {
      "text/plain": [
       "0"
      ]
     },
     "execution_count": 141,
     "metadata": {},
     "output_type": "execute_result"
    }
   ],
   "source": [
    "f.seek(0)"
   ]
  },
  {
   "cell_type": "code",
   "execution_count": 142,
   "id": "677b4038",
   "metadata": {},
   "outputs": [
    {
     "data": {
      "text/plain": [
       "'this is my first file operation to something in my test2.txt ada sadasbasjjask  jkasdwkldmqwwqewrewrerwd sadwqfwq\\n'"
      ]
     },
     "execution_count": 142,
     "metadata": {},
     "output_type": "execute_result"
    }
   ],
   "source": [
    "f.readline()"
   ]
  },
  {
   "cell_type": "code",
   "execution_count": 145,
   "id": "f07123f5",
   "metadata": {},
   "outputs": [
    {
     "data": {
      "text/plain": [
       "115"
      ]
     },
     "execution_count": 145,
     "metadata": {},
     "output_type": "execute_result"
    }
   ],
   "source": [
    "f.tell()"
   ]
  },
  {
   "cell_type": "code",
   "execution_count": 146,
   "id": "502cc38e",
   "metadata": {},
   "outputs": [
    {
     "data": {
      "text/plain": [
       "'\\n'"
      ]
     },
     "execution_count": 146,
     "metadata": {},
     "output_type": "execute_result"
    }
   ],
   "source": [
    "f.readline()"
   ]
  },
  {
   "cell_type": "code",
   "execution_count": 147,
   "id": "8cd8b80c",
   "metadata": {},
   "outputs": [
    {
     "data": {
      "text/plain": [
       "0"
      ]
     },
     "execution_count": 147,
     "metadata": {},
     "output_type": "execute_result"
    }
   ],
   "source": [
    "f.seek(0)"
   ]
  },
  {
   "cell_type": "code",
   "execution_count": 148,
   "id": "ac813008",
   "metadata": {},
   "outputs": [
    {
     "data": {
      "text/plain": [
       "'this is my first file operation to something in my test2.txt ada sadasbasjjask  jkasdwkldmqwwqewrewrerwd sadwqfwq\\n'"
      ]
     },
     "execution_count": 148,
     "metadata": {},
     "output_type": "execute_result"
    }
   ],
   "source": [
    "f.readline()"
   ]
  },
  {
   "cell_type": "code",
   "execution_count": 149,
   "id": "8a09450f",
   "metadata": {},
   "outputs": [
    {
     "data": {
      "text/plain": [
       "'\\n'"
      ]
     },
     "execution_count": 149,
     "metadata": {},
     "output_type": "execute_result"
    }
   ],
   "source": [
    "f.readline()"
   ]
  },
  {
   "cell_type": "code",
   "execution_count": 150,
   "id": "159ef588",
   "metadata": {},
   "outputs": [
    {
     "data": {
      "text/plain": [
       "0"
      ]
     },
     "execution_count": 150,
     "metadata": {},
     "output_type": "execute_result"
    }
   ],
   "source": [
    "f.seek(0)"
   ]
  },
  {
   "cell_type": "code",
   "execution_count": 151,
   "id": "1f2b3f39",
   "metadata": {},
   "outputs": [
    {
     "data": {
      "text/plain": [
       "'this is my first file operation to something in my test2.txt ada sadasbasjjask  jkasdwkldmqwwqewrewrerwd sadwqfwq\\n\\nadwfefwegrszcdsvfdhtjukyukk wdwqrrer eewwgrg wawdwfg efewfweg wefewfew'"
      ]
     },
     "execution_count": 151,
     "metadata": {},
     "output_type": "execute_result"
    }
   ],
   "source": [
    "f.read()"
   ]
  },
  {
   "cell_type": "code",
   "execution_count": 152,
   "id": "d2deae9b",
   "metadata": {},
   "outputs": [
    {
     "data": {
      "text/plain": [
       "''"
      ]
     },
     "execution_count": 152,
     "metadata": {},
     "output_type": "execute_result"
    }
   ],
   "source": [
    "f.readline()"
   ]
  },
  {
   "cell_type": "code",
   "execution_count": 153,
   "id": "2d86becc",
   "metadata": {},
   "outputs": [
    {
     "data": {
      "text/plain": [
       "0"
      ]
     },
     "execution_count": 153,
     "metadata": {},
     "output_type": "execute_result"
    }
   ],
   "source": [
    "f.seek(0)"
   ]
  },
  {
   "cell_type": "code",
   "execution_count": 154,
   "id": "10cf8ba7",
   "metadata": {},
   "outputs": [
    {
     "data": {
      "text/plain": [
       "'this is my first file operation to something in my test2.txt ada sadasbasjjask  jkasdwkldmqwwqewrewrerwd sadwqfwq\\n'"
      ]
     },
     "execution_count": 154,
     "metadata": {},
     "output_type": "execute_result"
    }
   ],
   "source": [
    "f.readline()"
   ]
  },
  {
   "cell_type": "code",
   "execution_count": 155,
   "id": "f5eb3688",
   "metadata": {},
   "outputs": [
    {
     "data": {
      "text/plain": [
       "'\\n'"
      ]
     },
     "execution_count": 155,
     "metadata": {},
     "output_type": "execute_result"
    }
   ],
   "source": [
    "f.readline()"
   ]
  },
  {
   "cell_type": "code",
   "execution_count": 156,
   "id": "86316bae",
   "metadata": {},
   "outputs": [],
   "source": [
    "f.close()"
   ]
  },
  {
   "cell_type": "code",
   "execution_count": null,
   "id": "84809cf3",
   "metadata": {},
   "outputs": [],
   "source": []
  },
  {
   "cell_type": "code",
   "execution_count": null,
   "id": "d49ff8f8",
   "metadata": {},
   "outputs": [],
   "source": []
  },
  {
   "cell_type": "code",
   "execution_count": 157,
   "id": "9678332e",
   "metadata": {},
   "outputs": [
    {
     "name": "stdout",
     "output_type": "stream",
     "text": [
      "this is my first file operation to something in my test2.txt ada sadasbasjjask  jkasdwkldmqwwqewrewrerwd sadwqfwq\n",
      " \n",
      " adwfefwegrszcdsvfdhtjukyukk wdwqrrer eewwgrg wawdwfg efewfweg wefewfew "
     ]
    }
   ],
   "source": [
    "f = open(\"test2.txt\" , \"r+\")\n",
    "for line in f:\n",
    "    print(line , end = \" \")"
   ]
  },
  {
   "cell_type": "code",
   "execution_count": 158,
   "id": "63909953",
   "metadata": {},
   "outputs": [
    {
     "data": {
      "text/plain": [
       "31"
      ]
     },
     "execution_count": 158,
     "metadata": {},
     "output_type": "execute_result"
    }
   ],
   "source": [
    "f.write(\"qwertyuiopasdfghjkl zxcvvbnmmmm\")"
   ]
  },
  {
   "cell_type": "code",
   "execution_count": 159,
   "id": "fdec3e90",
   "metadata": {},
   "outputs": [],
   "source": [
    "f.close()"
   ]
  },
  {
   "cell_type": "code",
   "execution_count": null,
   "id": "e2097d40",
   "metadata": {},
   "outputs": [],
   "source": []
  },
  {
   "cell_type": "code",
   "execution_count": 5,
   "id": "ef08ee5f",
   "metadata": {},
   "outputs": [
    {
     "name": "stdout",
     "output_type": "stream",
     "text": [
      "this is my first file operation to something in my test2.txt ada sadasbasjjask  jkasdwkldmqwwqewrewrerwd sadwqfwq\n",
      " \n",
      " adwfefwegrszcdsvfdhtjukyukk wdwqrrer eewwgrg wawdwfg efewfweg wefewfewqwertyuiopasdfghjkl zxcvvbnmmmm "
     ]
    }
   ],
   "source": [
    "f = open(\"test2.txt\" , \"r+\")\n",
    "for line in f:\n",
    "        print(line , end= \" \")"
   ]
  },
  {
   "cell_type": "code",
   "execution_count": 6,
   "id": "d91dcd0e",
   "metadata": {},
   "outputs": [],
   "source": [
    "f.close()"
   ]
  },
  {
   "cell_type": "code",
   "execution_count": null,
   "id": "f3b10b1f",
   "metadata": {},
   "outputs": [],
   "source": []
  },
  {
   "cell_type": "code",
   "execution_count": 24,
   "id": "69c901c3",
   "metadata": {},
   "outputs": [],
   "source": [
    "f =open(\"test2.txt\" , \"r+\")"
   ]
  },
  {
   "cell_type": "code",
   "execution_count": 25,
   "id": "84babfa3",
   "metadata": {},
   "outputs": [
    {
     "data": {
      "text/plain": [
       "['this is my first file operation to something in my test2.txt ada sadasbasjjask  jkasdwkldmqwwqewrewrerwd sadwqfwq\\n',\n",
       " '\\n',\n",
       " 'adwfefwegrszcdsvfdhtjukyukk wdwqrrer eewwgrg wawdwfg efewfweg wefewfewqwertyuiopasdfghjkl zxcvvbnmmmm']"
      ]
     },
     "execution_count": 25,
     "metadata": {},
     "output_type": "execute_result"
    }
   ],
   "source": [
    "f.readlines()\n"
   ]
  },
  {
   "cell_type": "code",
   "execution_count": 26,
   "id": "69b7732e",
   "metadata": {},
   "outputs": [
    {
     "data": {
      "text/plain": [
       "0"
      ]
     },
     "execution_count": 26,
     "metadata": {},
     "output_type": "execute_result"
    }
   ],
   "source": [
    "len(f.readlines())"
   ]
  },
  {
   "cell_type": "code",
   "execution_count": null,
   "id": "c2273842",
   "metadata": {},
   "outputs": [],
   "source": []
  },
  {
   "cell_type": "code",
   "execution_count": 31,
   "id": "add43380",
   "metadata": {},
   "outputs": [],
   "source": [
    " l = f.readlines()"
   ]
  },
  {
   "cell_type": "code",
   "execution_count": 32,
   "id": "cdfd5d58",
   "metadata": {},
   "outputs": [
    {
     "data": {
      "text/plain": [
       "[]"
      ]
     },
     "execution_count": 32,
     "metadata": {},
     "output_type": "execute_result"
    }
   ],
   "source": [
    "l"
   ]
  },
  {
   "cell_type": "code",
   "execution_count": null,
   "id": "2b0f887a",
   "metadata": {},
   "outputs": [],
   "source": []
  }
 ],
 "metadata": {
  "kernelspec": {
   "display_name": "Python 3 (ipykernel)",
   "language": "python",
   "name": "python3"
  },
  "language_info": {
   "codemirror_mode": {
    "name": "ipython",
    "version": 3
   },
   "file_extension": ".py",
   "mimetype": "text/x-python",
   "name": "python",
   "nbconvert_exporter": "python",
   "pygments_lexer": "ipython3",
   "version": "3.11.5"
  }
 },
 "nbformat": 4,
 "nbformat_minor": 5
}
