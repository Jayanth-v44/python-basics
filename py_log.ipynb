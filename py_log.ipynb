{
 "cells": [
  {
   "cell_type": "code",
   "execution_count": 1,
   "id": "403ef103",
   "metadata": {},
   "outputs": [
    {
     "name": "stdout",
     "output_type": "stream",
     "text": [
      "zxcvbnm\n"
     ]
    }
   ],
   "source": [
    "print(\"zxcvbnm\")"
   ]
  },
  {
   "cell_type": "code",
   "execution_count": 1,
   "id": "c2724dee",
   "metadata": {},
   "outputs": [],
   "source": [
    "import logging"
   ]
  },
  {
   "cell_type": "code",
   "execution_count": 5,
   "id": "b82afde8",
   "metadata": {},
   "outputs": [],
   "source": [
    "logging.basicConfig(filename = \"test.log\", level = logging.INFO)"
   ]
  },
  {
   "cell_type": "code",
   "execution_count": 6,
   "id": "26da717a",
   "metadata": {},
   "outputs": [
    {
     "data": {
      "text/plain": [
       "'C:\\\\Users\\\\JAYANV\\\\Jupyter'"
      ]
     },
     "execution_count": 6,
     "metadata": {},
     "output_type": "execute_result"
    }
   ],
   "source": [
    "pwd"
   ]
  },
  {
   "cell_type": "code",
   "execution_count": 7,
   "id": "24039026",
   "metadata": {},
   "outputs": [],
   "source": [
    "logging.info(\"this is my log file\")\n",
    "logging.warning(\"warning log\")\n",
    "logging.error(\"error log\")"
   ]
  },
  {
   "cell_type": "code",
   "execution_count": 8,
   "id": "c6449af1",
   "metadata": {},
   "outputs": [],
   "source": [
    "logging.shutdown()"
   ]
  },
  {
   "cell_type": "code",
   "execution_count": null,
   "id": "eed7ad8f",
   "metadata": {},
   "outputs": [],
   "source": []
  },
  {
   "cell_type": "code",
   "execution_count": null,
   "id": "8e6401e4",
   "metadata": {},
   "outputs": [],
   "source": []
  },
  {
   "cell_type": "code",
   "execution_count": null,
   "id": "a4c37838",
   "metadata": {},
   "outputs": [],
   "source": [
    "# TYPES \n",
    "DEBUG(4)\n",
    "INFO(3)\n",
    "WARNING(2)\n",
    "ERROR(1)\n",
    "CRICTICAL"
   ]
  },
  {
   "cell_type": "code",
   "execution_count": null,
   "id": "391bcbef",
   "metadata": {},
   "outputs": [],
   "source": []
  },
  {
   "cell_type": "code",
   "execution_count": 2,
   "id": "05f58133",
   "metadata": {},
   "outputs": [],
   "source": [
    "logging.basicConfig(filename = \"test2.log\" , level = logging.DEBUG , format = '%(asctime)s %(levelname)s %(message)s')"
   ]
  },
  {
   "cell_type": "code",
   "execution_count": 3,
   "id": "7332eed9",
   "metadata": {},
   "outputs": [],
   "source": [
    "logging.info(\"info log\")\n",
    "logging.warning(\"warning log\")\n",
    "logging.debug(\"debug log\")"
   ]
  },
  {
   "cell_type": "code",
   "execution_count": null,
   "id": "e0749603",
   "metadata": {},
   "outputs": [],
   "source": []
  },
  {
   "cell_type": "code",
   "execution_count": 6,
   "id": "31774d87",
   "metadata": {},
   "outputs": [],
   "source": [
    "logging.basicConfig(filename = \"test2.log\" , level = logging.ERROR , format = '%(asctime)s %(levelname)s %(message)s')"
   ]
  },
  {
   "cell_type": "code",
   "execution_count": 7,
   "id": "6249aec7",
   "metadata": {},
   "outputs": [],
   "source": [
    "logging.info(\"info log\")\n",
    "logging.warning(\"warning log\")\n",
    "logging.debug(\"debug log\")\n",
    "logging.error(\"error log\")"
   ]
  },
  {
   "cell_type": "code",
   "execution_count": 2,
   "id": "80123463",
   "metadata": {},
   "outputs": [],
   "source": [
    "logging.basicConfig(filename = \"test2.log\" , level = logging.INFO , format = '%(asctime)s %(levelname)s %(message)s')"
   ]
  },
  {
   "cell_type": "code",
   "execution_count": 3,
   "id": "ab624e00",
   "metadata": {},
   "outputs": [],
   "source": [
    "logging.info(\"info log\")\n",
    "logging.warning(\"warning log\")\n",
    "logging.debug(\"debug log\")\n",
    "logging.error(\"error log\")"
   ]
  },
  {
   "cell_type": "code",
   "execution_count": null,
   "id": "13ba1ae3",
   "metadata": {},
   "outputs": [],
   "source": []
  },
  {
   "cell_type": "code",
   "execution_count": null,
   "id": "b31b943c",
   "metadata": {},
   "outputs": [],
   "source": [
    "# Priority of logging\n",
    "\n",
    "ERROR\n",
    "WARNING\n",
    "INFO\n",
    "DEBUG\n"
   ]
  },
  {
   "cell_type": "code",
   "execution_count": null,
   "id": "1b6f82f3",
   "metadata": {},
   "outputs": [],
   "source": []
  },
  {
   "cell_type": "code",
   "execution_count": null,
   "id": "f26c8963",
   "metadata": {},
   "outputs": [],
   "source": []
  },
  {
   "cell_type": "code",
   "execution_count": 1,
   "id": "8a61f159",
   "metadata": {},
   "outputs": [],
   "source": [
    "import logging"
   ]
  },
  {
   "cell_type": "code",
   "execution_count": 2,
   "id": "651e389c",
   "metadata": {},
   "outputs": [],
   "source": [
    "logging.basicConfig(filename = \"test3.log\" , level = logging.DEBUG , format = '%(asctime)s %(levelname)s %(message)s')"
   ]
  },
  {
   "cell_type": "code",
   "execution_count": 3,
   "id": "222fa436",
   "metadata": {},
   "outputs": [],
   "source": [
    "def divbyzero(a,b):\n",
    "    logging.info(\"this is the start of code and im trying to enter %s and %s\",a,b)\n",
    "    try:\n",
    "        div = a/b\n",
    "        logging.info(\"executed sucessfully\")\n",
    "    except Exception as e:\n",
    "        logging.error(\"error has happened\")\n",
    "        logging.exception(\"Exception Occured\" + str(e))"
   ]
  },
  {
   "cell_type": "code",
   "execution_count": 4,
   "id": "21ff4aaa",
   "metadata": {},
   "outputs": [],
   "source": [
    "divbyzero(4,5)"
   ]
  },
  {
   "cell_type": "code",
   "execution_count": 5,
   "id": "a22fff88",
   "metadata": {},
   "outputs": [],
   "source": [
    "divbyzero(4,0)"
   ]
  },
  {
   "cell_type": "code",
   "execution_count": null,
   "id": "14634b66",
   "metadata": {},
   "outputs": [],
   "source": []
  }
 ],
 "metadata": {
  "kernelspec": {
   "display_name": "Python 3 (ipykernel)",
   "language": "python",
   "name": "python3"
  },
  "language_info": {
   "codemirror_mode": {
    "name": "ipython",
    "version": 3
   },
   "file_extension": ".py",
   "mimetype": "text/x-python",
   "name": "python",
   "nbconvert_exporter": "python",
   "pygments_lexer": "ipython3",
   "version": "3.11.5"
  }
 },
 "nbformat": 4,
 "nbformat_minor": 5
}
